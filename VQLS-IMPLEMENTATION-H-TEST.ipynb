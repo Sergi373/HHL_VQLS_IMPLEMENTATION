{
 "cells": [
  {
   "cell_type": "code",
   "execution_count": 6,
   "id": "4b8aa7f2-843b-495c-9b35-0c50be2e631f",
   "metadata": {},
   "outputs": [],
   "source": [
    "import math\n",
    "import scipy as sp\n",
    "import numpy as np\n",
    "import matplotlib.pyplot as plt\n",
    "from scipy.stats import gaussian_kde\n",
    "\n",
    "from qiskit import QuantumCircuit, transpile, assemble\n",
    "from qiskit.transpiler.preset_passmanagers import generate_preset_pass_manager\n",
    "from qiskit_ibm_runtime import QiskitRuntimeService , SamplerV2\n",
    "from qiskit.quantum_info import Operator\n",
    "from qiskit.providers.fake_provider import GenericBackendV2\n",
    "from qiskit.providers.basic_provider import BasicSimulator\n",
    "from qiskit.visualization import plot_histogram\n",
    "from qiskit.visualization import array_to_latex\n",
    "from qiskit_aer import StatevectorSimulator, AerSimulator\n",
    "from qiskit_aer.noise import NoiseModel, depolarizing_error\n",
    "from qiskit_ibm_runtime.fake_provider import FakeKyiv\n",
    "import qiskit_algorithms\n",
    "from qiskit_algorithms.optimizers import COBYLA\n",
    "from qiskit.quantum_info import Statevector\n",
    "import random"
   ]
  },
  {
   "cell_type": "code",
   "execution_count": 7,
   "id": "c3fee46e-3bc5-463b-8bcd-ca9b5c2691c3",
   "metadata": {},
   "outputs": [
    {
     "data": {
      "text/latex": [
       "$$\n",
       "\n",
       "\\begin{bmatrix}\n",
       "\\frac{7}{10} & \\frac{2}{5} & \\frac{1}{5} & 0 & 0 & 0 & - \\frac{3}{10} & \\frac{1}{10}  \\\\\n",
       " \\frac{2}{5} & \\frac{7}{10} & 0 & \\frac{1}{5} & 0 & 0 & \\frac{1}{10} & \\frac{3}{10}  \\\\\n",
       " \\frac{1}{5} & 0 & \\frac{7}{10} & \\frac{2}{5} & - \\frac{3}{10} & \\frac{1}{10} & 0 & 0  \\\\\n",
       " 0 & \\frac{1}{5} & \\frac{2}{5} & \\frac{7}{10} & \\frac{1}{10} & \\frac{3}{10} & 0 & 0  \\\\\n",
       " 0 & 0 & - \\frac{3}{10} & \\frac{1}{10} & - \\frac{7}{10} & \\frac{2}{5} & \\frac{1}{5} & 0  \\\\\n",
       " 0 & 0 & \\frac{1}{10} & \\frac{3}{10} & \\frac{2}{5} & - \\frac{7}{10} & 0 & \\frac{1}{5}  \\\\\n",
       " - \\frac{3}{10} & \\frac{1}{10} & 0 & 0 & \\frac{1}{5} & 0 & - \\frac{7}{10} & \\frac{2}{5}  \\\\\n",
       " \\frac{1}{10} & \\frac{3}{10} & 0 & 0 & 0 & \\frac{1}{5} & \\frac{2}{5} & - \\frac{7}{10}  \\\\\n",
       " \\end{bmatrix}\n",
       "$$"
      ],
      "text/plain": [
       "<IPython.core.display.Latex object>"
      ]
     },
     "execution_count": 7,
     "metadata": {},
     "output_type": "execute_result"
    }
   ],
   "source": [
    "#DEFINE 8x8 matrix \n",
    "\n",
    "I = np.array([[1,0],[0,1]])\n",
    "X = np.array([[0,1],[1,0]])\n",
    "Z = np.array([[1,0],[0,-1]])\n",
    "pauli_mat = {0: I, 1: Z, 2: X}\n",
    "\n",
    "def kron3(code):\n",
    "    return np.kron(np.kron(pauli_mat[code[2]], pauli_mat[code[1]]), pauli_mat[code[0]]) #ORDER IN PAULI MARTICES!!!!!\n",
    "    \n",
    "# A =  0.7 (IIZ)  + 0.4 (XII)  – 0.3 (ZXX)  + 0.2 (IXI)  + 0.1 (XXX)\n",
    "\n",
    "chosen_terms = {\n",
    "    (0,0,1):  0.7,    # I ⊗ I ⊗ Z\n",
    "    (2,0,0):  0.4,    # X ⊗ I ⊗ I\n",
    "    (1,2,2): -0.3,    # Z ⊗ X ⊗ X\n",
    "    (0,2,0):  0.2,    # I ⊗ X ⊗ I\n",
    "    (2,2,2):  0.1,    # X ⊗ X ⊗ X\n",
    "}\n",
    "\n",
    "A = sum(c * kron3(code) for code, c in chosen_terms.items())\n",
    "array_to_latex(A)"
   ]
  },
  {
   "cell_type": "code",
   "execution_count": 8,
   "id": "ef40c9a3-1e4d-40cf-b42f-0a299aee2766",
   "metadata": {},
   "outputs": [],
   "source": [
    "n = 3 #variational qubits\n",
    "q = n + 1 #all qubits 1 ancilla"
   ]
  },
  {
   "cell_type": "code",
   "execution_count": 10,
   "id": "db0c1b37-a45e-40c0-9730-446c2c71546a",
   "metadata": {},
   "outputs": [],
   "source": [
    "#construct b or maybe deconstruct b\n",
    "b = np.array([9,5,4,6,2,8,7,5])  \n",
    "b_norm = b / np.linalg.norm(b)\n",
    "initialn= int(np.log2(len(b_norm)))"
   ]
  },
  {
   "cell_type": "code",
   "execution_count": 11,
   "id": "e4e7b5be-9aa1-4ce6-9b42-6323c6f98e79",
   "metadata": {
    "scrolled": true
   },
   "outputs": [],
   "source": [
    "#VARIATIONAL ANSATZ\n",
    "\n",
    "def apply_fixed_ansatz(var,qubits, param):\n",
    "\n",
    "    for i in range(0,n):\n",
    "        var.ry(param[0][i],qubits[i] )\n",
    "        \n",
    "    var.cz(qubits[0], qubits[1])\n",
    "    var.cz(qubits[2], qubits[0])\n",
    "\n",
    "    for  j in range (0, len(qubits)):\n",
    "        var.ry(param[1][j], qubits[j])\n",
    "\n",
    "    var.cz(qubits[1], qubits[2])\n",
    "    var.cz(qubits[2], qubits[0])\n",
    "\n",
    "    for k in range (0, len(qubits)):\n",
    "        var.ry(param[2][k], qubits[k])\n",
    "\n",
    "\n",
    "var = QuantumCircuit(q)\n",
    "apply_fixed_ansatz(var,[1,2,3], [[1, 1, 1], [1, 1, 1], [1, 1, 1]])\n",
    "#var.draw(\"mpl\")"
   ]
  },
  {
   "cell_type": "code",
   "execution_count": 12,
   "id": "602e9b2c-a116-4062-8541-cc97db669ff7",
   "metadata": {},
   "outputs": [],
   "source": [
    "#DEFINITION Y CHECKEO DE LA CONSTRUCCION DE U \n",
    "def Uprep(b):\n",
    "# Usa el Gram-Schmidt method\n",
    "    b = np.asarray(b, dtype=float).reshape(8)\n",
    "    b = b / np.linalg.norm(b)\n",
    "    \n",
    "    basis = [b]\n",
    "\n",
    "    for i in range(8):\n",
    "        v = np.zeros(8)\n",
    "        v[i] = 1.0\n",
    "        for u in basis:\n",
    "            v -= np.dot(u, v) * u\n",
    "        norm_v = np.linalg.norm(v)\n",
    "        if norm_v > 1e-10:\n",
    "            basis.append(v / norm_v)\n",
    "        if len(basis) == 8:\n",
    "            break\n",
    "\n",
    "    U = np.column_stack(basis)\n",
    "    return U"
   ]
  },
  {
   "cell_type": "code",
   "execution_count": 13,
   "id": "7b96df59-8ab6-491c-8954-633615d240b5",
   "metadata": {},
   "outputs": [],
   "source": [
    "qubits  =[1,2,3]\n",
    "shots = 1024\n",
    "chosen_terms = {\n",
    "    (0,0,1):  0.7,    # I ⊗ I ⊗ Z\n",
    "    (2,0,0):  0.4,    # X ⊗ I ⊗ I\n",
    "    (1,2,2): -0.3,    # Z ⊗ X ⊗ X\n",
    "    (0,2,0):  0.2,    # I ⊗ X ⊗ I\n",
    "    (2,2,2):  0.1,    # X ⊗ X ⊗ X\n",
    "}  \n",
    "norm_factor = 2**n  \n",
    "projector_terms = {\n",
    "    k: coeff / norm_factor\n",
    "    for k, coeff in chosen_terms.items()\n",
    "}\n",
    "backend = GenericBackendV2(q)\n",
    "storecounts = []\n",
    "U_gate = Operator(Uprep(b)).to_instruction().control(1)\n",
    "def iterationQ(chosen_terms, shots, qubits, param):\n",
    "    storecounts = []\n",
    "    for k in chosen_terms:\n",
    "        var = QuantumCircuit(q,1)\n",
    "        apply_fixed_ansatz(var, qubits, param)\n",
    "        var.h(0)\n",
    "        for i in range(0,n):\n",
    "            if k[i] == 1:\n",
    "                var.cz(0,qubits[i])\n",
    "            if k[i] == 2:\n",
    "                var.cx(0,qubits[i])\n",
    "        var.append(U_gate, [0,1,2,3])\n",
    "        var.h(0)\n",
    "        var.measure(0,0)\n",
    "        transpiled_circuit = transpile(var, backend) \n",
    "        job = backend.run(transpiled_circuit, shots = shots, noise_model=None)\n",
    "        counts = job.result().get_counts()\n",
    "        storecounts.append(counts)\n",
    "    coeffs = list(projector_terms.values())\n",
    "    Expec = []\n",
    "    for i in range(0,len(storecounts)):\n",
    "        Expec.append(coeffs[i]*(storecounts[i].get(\"0\", 0)/shots - storecounts[i].get(\"1\", 0)/shots))\n",
    "    overlap = sum(Expec)\n",
    "    return overlap"
   ]
  },
  {
   "cell_type": "code",
   "execution_count": null,
   "id": "859f26b0-f757-4906-9467-255aeea14edd",
   "metadata": {},
   "outputs": [],
   "source": [
    "def cost(param):\n",
    "    return 1 - iterationQ(chosen_terms, shots, qubits, param)\n",
    "\n",
    "def cost_flat(flat_param):\n",
    "    param_matrix = flat_param.reshape((3, 3))\n",
    "    cost_value = 1 - iterationQ(chosen_terms, shots, qubits, param_matrix)\n",
    "    cost_history.append(cost_value)\n",
    "    print(cost_value)\n",
    "    return cost_value\n",
    "cost_history = []\n",
    "res = COBYLA(maxiter=200).minimize(fun=cost_flat, x0 = np.random.uniform(0, 2*np.pi, size=9))\n",
    "\n",
    "\n",
    "plt.plot(cost_history, 'o-')\n",
    "plt.xlabel(\"Iteración\")\n",
    "plt.ylabel(\"Coste C(θ)\")\n",
    "plt.title(\"Convergencia VQLS\")\n",
    "plt.show()\n",
    "\n",
    "\n",
    "print(\"Ultima iteracion =\", res.fun)\n",
    "print(\"Mejor solapamiento² =\", 1 - res.fun)\n",
    "print(\"Parámetros óptimos =\", res.x.reshape((3, 3)))\n"
   ]
  }
 ],
 "metadata": {
  "kernelspec": {
   "display_name": "Python 3 (ipykernel)",
   "language": "python",
   "name": "python3"
  },
  "language_info": {
   "codemirror_mode": {
    "name": "ipython",
    "version": 3
   },
   "file_extension": ".py",
   "mimetype": "text/x-python",
   "name": "python",
   "nbconvert_exporter": "python",
   "pygments_lexer": "ipython3",
   "version": "3.11.9"
  }
 },
 "nbformat": 4,
 "nbformat_minor": 5
}
